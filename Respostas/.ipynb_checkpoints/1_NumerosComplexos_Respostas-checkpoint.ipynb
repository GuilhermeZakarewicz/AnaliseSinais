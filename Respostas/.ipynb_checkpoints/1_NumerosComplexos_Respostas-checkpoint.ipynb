{
 "cells": [
  {
   "cell_type": "code",
   "execution_count": 1,
   "id": "22c72562",
   "metadata": {},
   "outputs": [],
   "source": [
    "import numpy as np\n",
    "import matplotlib.pyplot as plt"
   ]
  },
  {
   "cell_type": "markdown",
   "id": "0c0029c6",
   "metadata": {},
   "source": [
    "### Sumário\n",
    "\n",
    "1. [Motivação](#1.-Motivação)\n",
    "2. [Operações com números complexos](#2.-Operações-com-números-complexos)\n",
    "3. [Plano complexo e representação polar](#3.-Plano-complexo-e-representação-polar)\n",
    "4. [Números complexos em Python](#4.-Números-complexos-em-Python)\n",
    "5. [Exercícios](#5.-Exercícios)"
   ]
  },
  {
   "cell_type": "markdown",
   "id": "f1905f44",
   "metadata": {},
   "source": [
    "## 1. Motivação\n",
    "\n",
    "Suponha que queremos resolver uma equação quadrática da forma:\n",
    "\n",
    "<p style=\"text-align:center\">$az^{2} + bz + c = 0$</p>\n",
    "\n",
    "O valor da variável z é dado pela fórmula quadrática:\n",
    "\n",
    "<p style=\"text-align:center\">$z = \\frac{-b \\pm\\sqrt{b^{2}-4ac}}{2a}$</p>\n",
    "\n",
    "Como apenas números não negativos possuem raízes quadradas reais, caso o discriminante seja negativo, um novo tipo de número deve ser introduzido, chamado de número imaginário. Números imaginários são representados por $i = \\sqrt{-1}$, onde $i^{2} = -1$. \n",
    "\n",
    "Para resolver a seguinte equação:\n",
    "\n",
    "<p style=\"text-align:center\">$x^2 + 1 = 0,$</p>\n",
    "\n",
    "devemos considerar este novo número $i$. Assim, \n",
    "\n",
    "<p style=\"text-align:center\">$x^2 = -1$</p>\n",
    "\n",
    "<p style=\"text-align:center\">$x = i$</p>\n",
    "\n",
    "Da mesma forma:\n",
    "\n",
    "<p style=\"text-align:center\">$\\sqrt{-25} = 5i,$</p>\n",
    "\n",
    "<p style=\"text-align:center\">$\\sqrt{-4} = 2i,$</p>\n",
    "\n",
    "e assim em diante.\n",
    "\n",
    "O termo **número complexo** é usado para descrever qualquer número dos conjuntos inteiro, real ou imaginário. Podemos definir o domínio dos números complexos como:\n",
    "\n",
    "<p style=\"text-align:center\">$ \\mathbb{C} = \\{z=a+bi | a,b \\in \\mathbb{R}\\}. $</p>\n",
    "\n",
    "Assim, qualquer número $z$, seja real ou complexo, pode ser escrito nessa forma, sendo \n",
    "\n",
    "<p style=\"text-align:center\">$a$ a parte real $(\\Re \\{z\\})$</p>\n",
    "\n",
    "<p style=\"text-align:center\">$b$ a parte imaginária $(\\Im \\{z\\})$</p>"
   ]
  },
  {
   "cell_type": "markdown",
   "id": "12ec95d8",
   "metadata": {},
   "source": [
    "\n",
    "**Exercício.** Calcule $i^{2}, i^{3}, i^{4}, i^{5}, i^{6}$."
   ]
  },
  {
   "cell_type": "markdown",
   "id": "03a95f3d",
   "metadata": {},
   "source": [
    "**Resposta.**\n",
    "\n",
    "$ i^{2} = -1 $\n",
    "\\\n",
    "\\\n",
    "$ i^{3} = i^{2} \\cdot i = -1 \\cdot i = -i $\n",
    "\\\n",
    "\\\n",
    "$ i^{4} = i^{2} \\cdot i^{2} = -1 \\cdot -1 = 1 $\n",
    "\\\n",
    "\\\n",
    "$ i^{5} = i^{2} \\cdot i^{2} \\cdot i = -1 \\cdot -1 \\cdot i = 1 \\cdot i = i $"
   ]
  },
  {
   "cell_type": "code",
   "execution_count": 2,
   "id": "a776ce13",
   "metadata": {},
   "outputs": [
    {
     "name": "stdout",
     "output_type": "stream",
     "text": [
      "i^2 = (-1+0j)\n",
      "i^3 = (-0-1j)\n",
      "i^4 = (1+0j)\n",
      "i^5 = 1j\n"
     ]
    },
    {
     "data": {
      "image/png": "[encoded data removed]",
      "text/plain": [
       "<Figure size 360x360 with 1 Axes>"
      ]
     },
     "metadata": {
      "needs_background": "light"
     },
     "output_type": "display_data"
    }
   ],
   "source": [
    "i_2 = (1j)**2\n",
    "i_3 = (1j)**3\n",
    "i_4 = (1j)**4\n",
    "i_5 = (1j)**5\n",
    "\n",
    "print(f\"i^2 = {i_2}\")\n",
    "print(f\"i^3 = {i_3}\")\n",
    "print(f\"i^4 = {i_4}\")\n",
    "print(f\"i^5 = {i_5}\")\n",
    "\n",
    "i2_real,i2_imag = i_2.real,i_2.imag\n",
    "i3_real,i3_imag = i_3.real,i_3.imag\n",
    "i4_real,i4_imag = i_4.real,i_4.imag\n",
    "i5_real,i5_imag = i_5.real,i_5.imag\n",
    "\n",
    "fig = plt.figure(figsize=(5,5))\n",
    "ax = fig.add_subplot(1, 1, 1)\n",
    "circ = plt.Circle((0, 0), radius=1, edgecolor='k', facecolor='None')\n",
    "ax.add_patch(circ)\n",
    "ax.axhline(y=0, color='k')\n",
    "ax.axvline(x=0, color='k')\n",
    "plt.xlim([-1.5,1.5])\n",
    "plt.ylim([-1.5,1.5])\n",
    "plt.grid()\n",
    "\n",
    "plt.plot(i2_real,i2_imag,\"ok\")\n",
    "plt.text(-0.9,0.1,\"$i^{2}$\")\n",
    "plt.plot(i3_real,i3_imag,\"ok\")\n",
    "plt.text(0.1,-0.9,\"$i^{3}$\")\n",
    "plt.plot(i4_real,i4_imag,\"ok\")\n",
    "plt.text(1.1,0.1,\"$i^{4}$\")\n",
    "plt.plot(i5_real,i5_imag,\"ok\")\n",
    "plt.text(0.1,1.1,\"$i = i^{5}$\")\n",
    "\n",
    "plt.show()"
   ]
  },
  {
   "cell_type": "markdown",
   "id": "d9d0350a",
   "metadata": {},
   "source": [
    "## 2. Operações com números complexos\n",
    "\n",
    "Vamos definir algumas operações simples com números complexos.\n",
    "\n",
    "Considere dois números:\n",
    "\n",
    "<p style=\"text-align:center\">$z_1 = a_1 + b_1 i$</p>\n",
    "\n",
    "<p style=\"text-align:center\">$z_2 = a_2 + b_2 i$</p>\n",
    "\n",
    "A soma entre estes números é dada por:\n",
    "\n",
    "<p style=\"text-align:center\">$z_s = (a_1 + a_2) + (b_1 + b_2) i$</p>\n",
    "\n",
    "O produto é dado por:\n",
    "\n",
    "<p style=\"text-align:center\">$z_p = (a_1a_2 - b_1b_2) + (a_1b_2 + b_1a_2) i$</p>"
   ]
  },
  {
   "cell_type": "markdown",
   "id": "2e469c18",
   "metadata": {},
   "source": [
    "O **complexo conjugado** ou simplesmente **conjugado** de um número complexo é obtido simplesmente invertendo o sinal de sua respectiva parte imaginária. Assim, se $z = a + bi$ é um número complexo, o seu conjugado é dado por $\\bar{z} = a - bi$.\n",
    "\n",
    "<p style=\"text-align:center\">$z + \\bar{z} = 2a$</p>\n",
    "\n",
    "<p style=\"text-align:center\">$z \\cdot \\bar{z} = a^2 + b^2$</p>\n",
    "\n",
    "<p style=\"text-align:center\">$ |z|^2 = a^2 + b^2 $</p>\n",
    "\n",
    "<p style=\"text-align:center\">$ |z| = \\sqrt{a^2 + b^2} $</p>"
   ]
  },
  {
   "cell_type": "markdown",
   "id": "ddaf6995",
   "metadata": {},
   "source": [
    "**************"
   ]
  },
  {
   "cell_type": "markdown",
   "id": "aa0320f4",
   "metadata": {},
   "source": [
    "## 3. Plano complexo e representação polar\n",
    "\n",
    "Um plano cartesiano pode ser utilizado para representar números complexos; assim, as notações 5 + 3i e (5, 3) são equivalentes. Em geral, a **parte real** de um número complexo é representada no eixo horizontal (eixo x), e a **parte imaginária** no eixo vertical (eixo y).\n",
    "\n",
    "<img src=\"./Figuras/plano_complexo.png\" width=300 height=300 alt=\"Plano complexo\" />\n",
    "\n",
    "\n",
    "\n"
   ]
  },
  {
   "cell_type": "markdown",
   "id": "794ba9f1",
   "metadata": {},
   "source": [
    "**Exemplo.** Plote o gráfico de 2+0i e calcule sua amplitude $r$ "
   ]
  },
  {
   "cell_type": "code",
   "execution_count": 3,
   "id": "725799ba",
   "metadata": {},
   "outputs": [
    {
     "data": {
      "image/png": "[encoded data removed]",
      "text/plain": [
       "<Figure size 360x360 with 1 Axes>"
      ]
     },
     "metadata": {
      "needs_background": "light"
     },
     "output_type": "display_data"
    },
    {
     "name": "stdout",
     "output_type": "stream",
     "text": [
      "Amplitude r = 2.0\n"
     ]
    }
   ],
   "source": [
    "x=2\n",
    "y=0\n",
    "\n",
    "fig = plt.figure(figsize=(5,5))\n",
    "ax = fig.add_subplot(1, 1, 1)\n",
    "ax.axhline(y=0, color='k')\n",
    "ax.axvline(x=0, color='k')\n",
    "\n",
    "plt.plot(x,y,\"o\") #plotar aqui!\n",
    "plt.text(2.15,0,\"z = 2 + 0i\")\n",
    "\n",
    "plt.grid()\n",
    "plt.show()\n",
    "\n",
    "r = np.sqrt(x**2 + y**2)\n",
    "\n",
    "print(f\"Amplitude r = {r}\")"
   ]
  },
  {
   "cell_type": "markdown",
   "id": "6a326b00",
   "metadata": {},
   "source": [
    "**Exercício.** Plote o gráfico de 4-3i e calcule sua amplitude $r$"
   ]
  },
  {
   "cell_type": "code",
   "execution_count": 4,
   "id": "ef8c2d04",
   "metadata": {},
   "outputs": [
    {
     "ename": "SyntaxError",
     "evalue": "invalid syntax (<ipython-input-4-af8e5b4cece5>, line 1)",
     "output_type": "error",
     "traceback": [
      "\u001b[1;36m  File \u001b[1;32m\"<ipython-input-4-af8e5b4cece5>\"\u001b[1;36m, line \u001b[1;32m1\u001b[0m\n\u001b[1;33m    x= #?\u001b[0m\n\u001b[1;37m       ^\u001b[0m\n\u001b[1;31mSyntaxError\u001b[0m\u001b[1;31m:\u001b[0m invalid syntax\n"
     ]
    }
   ],
   "source": [
    "x= #?\n",
    "y= #?\n",
    "\n",
    "fig = plt.figure(figsize=(5,5))\n",
    "ax = fig.add_subplot(1, 1, 1)\n",
    "ax.axhline(y=0, color='k')\n",
    "ax.axvline(x=0, color='k')\n",
    "plt.xlim([-5,5])\n",
    "plt.ylim([-5,5])\n",
    "\n",
    "plt.plot() #plotar aqui!\n",
    "\n",
    "plt.grid()\n",
    "plt.show()\n",
    "\n",
    "r = np.sqrt(x**2 + y**2)\n",
    "\n",
    "print(f\"Amplitude r = {r}\")"
   ]
  },
  {
   "cell_type": "code",
   "execution_count": 5,
   "id": "b83bb5c2",
   "metadata": {},
   "outputs": [
    {
     "data": {
      "image/png": "[encoded data removed]",
      "text/plain": [
       "<Figure size 360x360 with 1 Axes>"
      ]
     },
     "metadata": {
      "needs_background": "light"
     },
     "output_type": "display_data"
    },
    {
     "name": "stdout",
     "output_type": "stream",
     "text": [
      "Amplitude r = 5.0\n"
     ]
    }
   ],
   "source": [
    "#Resposta\n",
    "x,y = 4,-3\n",
    "\n",
    "fig = plt.figure(figsize=(5,5))\n",
    "ax = fig.add_subplot(1, 1, 1)\n",
    "ax.axhline(y=0, color='k')\n",
    "ax.axvline(x=0, color='k')\n",
    "plt.xlim([-5,5])\n",
    "plt.ylim([-5,5])\n",
    "\n",
    "plt.plot(x,y,\"o\") #plotar aqui!\n",
    "ax.quiver(0, 0, x, y,units='xy', angles='xy', scale=1)\n",
    "plt.text(2.2,-3,\"z = 4 - 3i\")\n",
    "\n",
    "plt.grid()\n",
    "plt.show()\n",
    "\n",
    "r = np.sqrt(x**2 + y**2)\n",
    "\n",
    "print(f\"Amplitude r = {r}\")"
   ]
  },
  {
   "cell_type": "markdown",
   "id": "6835826b",
   "metadata": {},
   "source": [
    "Em vez de usar as coordenadas retangulares (x, y), em geometria analítica podemos localizar um ponto por meio de suas coordenadas polares (r, $\\theta$), onde r é a distância de z até a origem dos sistema de coordenadas do plano complexo (r = |z|) e $\\theta$ (argumento) é o ângulo entre z e o semieixo real positivo. Assim, para um número complexo z = x + iy:\n",
    "\n",
    "<p style=\"text-align:center\">$x = r cos \\theta$</p>\n",
    "<p style=\"text-align:center\">$y = r sin \\theta$</p>\n",
    "<p style=\"text-align:center\">$r = \\sqrt{x^2 + y^2}$</p>\n",
    "<p style=\"text-align:center\">$\\theta = arctan(-y/x)$</p>\n",
    "<p style=\"text-align:center\">$z = x + iy $</p>\n",
    "<p style=\"text-align:center\">$z = r cos \\theta + r i  sin \\theta $</p>\n",
    "<p style=\"text-align:center\">$z = r(cos \\theta + i sin \\theta)$</p>\n",
    "\n",
    "<img src=\"data:image/png;base64,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\" width=200 height=200 alt=\"Theta\" />\n",
    "\n",
    "Assim, uma outra forma de representar um número complexo é \n",
    "\n",
    "<p style=\"text-align:center\">$ z = r \\cdot e^{i \\theta}$</p>\n",
    "\n",
    "Dessa forma, \n",
    "\n",
    "<p style=\"text-align:center\">$ e^{i\\theta} = cos(\\theta) + i sen(\\theta)$</p>"
   ]
  },
  {
   "cell_type": "markdown",
   "id": "a4f032a2",
   "metadata": {},
   "source": [
    "********"
   ]
  },
  {
   "cell_type": "markdown",
   "id": "8cce3def",
   "metadata": {},
   "source": [
    "**Exercício.** Considerando que $ e^{i\\theta} = cos(\\theta) + i sen(\\theta)$, prove a relação de Euler:\n",
    "\n",
    "<p style=\"text-align:center\">$e^{i\\pi} + 1 = 0$</p>"
   ]
  },
  {
   "cell_type": "markdown",
   "id": "914653bd",
   "metadata": {},
   "source": [
    "**Resposta.**\n",
    "\n",
    "<p style=\"text-align:center\">$e^{i\\pi} = cos(\\pi) + isen(\\pi)$</p>\n",
    "\n",
    "<p style=\"text-align:center\">$cos(\\pi) + isen(\\pi) = -1 + i\\cdot0$</p>\n",
    "\n",
    "<p style=\"text-align:center\">$e^{i\\pi} = -1$, logo</p>\n",
    "\n",
    "<p style=\"text-align:center\">$e^{i\\pi} + 1 = 0$</p>"
   ]
  },
  {
   "cell_type": "markdown",
   "id": "3dc3a992",
   "metadata": {},
   "source": [
    "**********"
   ]
  },
  {
   "cell_type": "markdown",
   "id": "924a16de",
   "metadata": {},
   "source": [
    "## 4. Números complexos em Python"
   ]
  },
  {
   "cell_type": "markdown",
   "id": "b45e3287",
   "metadata": {},
   "source": [
    "Em Python a parte imaginária de números complexos é representada pela letra $j$:"
   ]
  },
  {
   "cell_type": "code",
   "execution_count": 6,
   "id": "bfd17e9c",
   "metadata": {},
   "outputs": [],
   "source": [
    "z = 2 + 2j"
   ]
  },
  {
   "cell_type": "code",
   "execution_count": 7,
   "id": "6f1ceb1d",
   "metadata": {},
   "outputs": [
    {
     "name": "stdout",
     "output_type": "stream",
     "text": [
      "<class 'complex'>\n"
     ]
    }
   ],
   "source": [
    "print(type(z))"
   ]
  },
  {
   "cell_type": "markdown",
   "id": "321fda54",
   "metadata": {},
   "source": [
    "Outra forma de escrever um número complexo é utilizando a função ``complex``, passando as partes real e imaginária como argumentos:"
   ]
  },
  {
   "cell_type": "code",
   "execution_count": 8,
   "id": "1eeba00d",
   "metadata": {},
   "outputs": [
    {
     "name": "stdout",
     "output_type": "stream",
     "text": [
      "<class 'complex'>\n",
      "(4+3j)\n"
     ]
    }
   ],
   "source": [
    "z = complex(4, 3)\n",
    "print(type(z))\n",
    "print(z)"
   ]
  },
  {
   "cell_type": "markdown",
   "id": "fd61b0a6",
   "metadata": {},
   "source": [
    "Um objeto do tipo complexo em Python possui um método (conjugate) e dois atributos (real e imag):"
   ]
  },
  {
   "cell_type": "code",
   "execution_count": 9,
   "id": "bb4b5e7c",
   "metadata": {},
   "outputs": [
    {
     "data": {
      "text/plain": [
       "(4-3j)"
      ]
     },
     "execution_count": 9,
     "metadata": {},
     "output_type": "execute_result"
    }
   ],
   "source": [
    "z.conjugate()"
   ]
  },
  {
   "cell_type": "code",
   "execution_count": 10,
   "id": "a4c811ab",
   "metadata": {},
   "outputs": [
    {
     "data": {
      "text/plain": [
       "4.0"
      ]
     },
     "execution_count": 10,
     "metadata": {},
     "output_type": "execute_result"
    }
   ],
   "source": [
    "z.real"
   ]
  },
  {
   "cell_type": "code",
   "execution_count": 11,
   "id": "6b38c7e2",
   "metadata": {},
   "outputs": [
    {
     "data": {
      "text/plain": [
       "3.0"
      ]
     },
     "execution_count": 11,
     "metadata": {},
     "output_type": "execute_result"
    }
   ],
   "source": [
    "z.imag"
   ]
  },
  {
   "cell_type": "markdown",
   "id": "9a3d5b3b",
   "metadata": {},
   "source": [
    "**Exemplo.** Escreva o número 4 - 4i em sua forma polar"
   ]
  },
  {
   "cell_type": "markdown",
   "id": "5ff3660b",
   "metadata": {},
   "source": [
    "$ z = r \\cdot e^{i\\theta} $\n",
    "\n",
    "$ r = \\sqrt{4^2 + 4^2} = \\sqrt{16 + 16} = \\sqrt{32} $\n",
    "\n",
    "$ \\theta = arctan(-4/4) = arctan(-1) = -\\pi/4 $\n",
    "\n",
    "$ z = \\sqrt{32} \\cdot e^{-i\\pi/4} $"
   ]
  },
  {
   "cell_type": "code",
   "execution_count": 12,
   "id": "0e82d291",
   "metadata": {},
   "outputs": [
    {
     "data": {
      "image/png": "[encoded data removed]",
      "text/plain": [
       "<Figure size 360x360 with 1 Axes>"
      ]
     },
     "metadata": {
      "needs_background": "light"
     },
     "output_type": "display_data"
    }
   ],
   "source": [
    "x,y = 4,-4\n",
    "\n",
    "fig = plt.figure(figsize=(5,5))\n",
    "ax = fig.add_subplot(1, 1, 1)\n",
    "ax.axhline(y=0, color='k')\n",
    "ax.axvline(x=0, color='k')\n",
    "plt.xlim([-5,5])\n",
    "plt.ylim([-5,5])\n",
    "\n",
    "plt.plot(x,y,\"o\") \n",
    "plt.text(2,-4,\"z = 4 - 4i\")\n",
    "ax.quiver(0, 0, x, y,units='xy', angles='xy', scale=1)\n",
    "\n",
    "plt.grid()\n",
    "plt.show()"
   ]
  },
  {
   "cell_type": "markdown",
   "id": "45508c6d",
   "metadata": {},
   "source": [
    "********"
   ]
  },
  {
   "cell_type": "markdown",
   "id": "58236585",
   "metadata": {},
   "source": [
    "## 5. Exercícios\n",
    "\n",
    "Resolva os exercícios utilizando as células de código logo abaixo dos mesmos."
   ]
  },
  {
   "cell_type": "markdown",
   "id": "3e44e372",
   "metadata": {},
   "source": [
    "**1)** Escreva z em sua forma polar:\n",
    "\n",
    "a) $z = 4 - 2i$"
   ]
  },
  {
   "cell_type": "code",
   "execution_count": null,
   "id": "c61ece68",
   "metadata": {},
   "outputs": [],
   "source": [
    "r = np.sqrt() #?\n",
    "\n",
    "theta = np.arctan() #?\n",
    "\n",
    "print(f\"z = {r}(cos({theta}) + isen({theta}))\")\n",
    "print(f\"z = {r} * (e^(i*{theta}))\")"
   ]
  },
  {
   "cell_type": "code",
   "execution_count": 14,
   "id": "5b785a77",
   "metadata": {},
   "outputs": [
    {
     "name": "stdout",
     "output_type": "stream",
     "text": [
      "z = 4.47213595499958 (cos(0.4636476090008061) + isen(0.4636476090008061))\n",
      "z = 4.47213595499958 * (e^(i*0.4636476090008061))\n"
     ]
    }
   ],
   "source": [
    "#Resposta\n",
    "\n",
    "a = 4 \n",
    "b = -2\n",
    "\n",
    "r = np.sqrt(a**2 + b**2) \n",
    "\n",
    "theta = np.arctan(-b/a) \n",
    "\n",
    "print(f\"z = {r} (cos({theta}) + isen({theta}))\")\n",
    "print(f\"z = {r} * (e^(i*{theta}))\")"
   ]
  },
  {
   "cell_type": "markdown",
   "id": "48c3f7c1",
   "metadata": {},
   "source": [
    "b) $ z = 3 + i \\sqrt{3} $"
   ]
  },
  {
   "cell_type": "code",
   "execution_count": null,
   "id": "56ebb82b",
   "metadata": {},
   "outputs": [],
   "source": [
    "r = np.sqrt() #?\n",
    "\n",
    "theta = np.arctan() #?\n",
    "\n",
    "print(f\"z = {r}(cos({theta}) + isen({theta}))\")\n",
    "print(f\"z = {r} * (e^(i*{theta}))\")"
   ]
  },
  {
   "cell_type": "code",
   "execution_count": 15,
   "id": "ecae7a80",
   "metadata": {},
   "outputs": [
    {
     "name": "stdout",
     "output_type": "stream",
     "text": [
      "z = 3.4641016151377544 (cos(-0.5235987755982988) + isen(-0.5235987755982988))\n",
      "z = 3.4641016151377544 * (e^(i*-0.5235987755982988))\n"
     ]
    }
   ],
   "source": [
    "#Resposta\n",
    "a = 3\n",
    "b = np.sqrt(3)\n",
    "\n",
    "r = np.sqrt(a**2 + b**2) \n",
    "\n",
    "theta = np.arctan(-b/a) \n",
    "\n",
    "print(f\"z = {r} (cos({theta}) + isen({theta}))\")\n",
    "print(f\"z = {r} * (e^(i*{theta}))\")"
   ]
  },
  {
   "cell_type": "markdown",
   "id": "512f5677",
   "metadata": {},
   "source": [
    "c) $z = -\\sqrt{3} + 2i$"
   ]
  },
  {
   "cell_type": "code",
   "execution_count": null,
   "id": "2e018f86",
   "metadata": {},
   "outputs": [],
   "source": [
    "r = np.sqrt() #?\n",
    "\n",
    "theta = np.arctan() #?\n",
    "\n",
    "print(f\"z = {r}(cos({theta}) + isen({theta}))\")\n",
    "print(f\"z = {r} * (e^(i*{theta}))\")"
   ]
  },
  {
   "cell_type": "code",
   "execution_count": 16,
   "id": "9eb89cd1",
   "metadata": {},
   "outputs": [
    {
     "name": "stdout",
     "output_type": "stream",
     "text": [
      "z = 2.6457513110645907 (cos(0.8570719478501311) + isen(0.8570719478501311))\n",
      "z = 2.6457513110645907 * (e^(i*0.8570719478501311))\n"
     ]
    }
   ],
   "source": [
    "#Resposta\n",
    "a = -np.sqrt(3)\n",
    "b = 2\n",
    "\n",
    "r = np.sqrt(a**2 + b**2) \n",
    "\n",
    "theta = np.arctan(-b/a) \n",
    "\n",
    "print(f\"z = {r} (cos({theta}) + isen({theta}))\")\n",
    "print(f\"z = {r} * (e^(i*{theta}))\")"
   ]
  },
  {
   "cell_type": "markdown",
   "id": "c5a60021",
   "metadata": {},
   "source": [
    "d) $z = 2i$"
   ]
  },
  {
   "cell_type": "code",
   "execution_count": null,
   "id": "4cbd2913",
   "metadata": {},
   "outputs": [],
   "source": [
    "r = np.sqrt() #?\n",
    "\n",
    "theta = np.arctan() #?\n",
    "\n",
    "print(f\"z = {r}(cos({theta}) + isen({theta}))\")\n",
    "print(f\"z = {r} * (e^(i*{theta}))\")"
   ]
  },
  {
   "cell_type": "code",
   "execution_count": 27,
   "id": "fe7a32b5",
   "metadata": {},
   "outputs": [
    {
     "name": "stdout",
     "output_type": "stream",
     "text": [
      "z = 2.0 (cos(1.5707963267948966) + isen(1.5707963267948966))\n",
      "z = 2.0 * (e^(i*1.5707963267948966))\n"
     ]
    }
   ],
   "source": [
    "#Resposta\n",
    "\n",
    "r = np.sqrt(2**2) \n",
    "\n",
    "theta = np.pi/2\n",
    "\n",
    "print(f\"z = {r} (cos({theta}) + isen({theta}))\")\n",
    "print(f\"z = {r} * (e^(i*{theta}))\")"
   ]
  },
  {
   "cell_type": "markdown",
   "id": "3198007d",
   "metadata": {},
   "source": [
    "e) $z = 5$"
   ]
  },
  {
   "cell_type": "code",
   "execution_count": null,
   "id": "a9abb60f",
   "metadata": {},
   "outputs": [],
   "source": [
    "r = np.sqrt() #?\n",
    "\n",
    "theta = np.arctan() #?\n",
    "\n",
    "print(f\"z = {r}(cos({theta}) + isen({theta}))\")\n",
    "print(f\"z = {r} * (e^(i*{theta}))\")"
   ]
  },
  {
   "cell_type": "code",
   "execution_count": 28,
   "id": "622329c0",
   "metadata": {},
   "outputs": [
    {
     "name": "stdout",
     "output_type": "stream",
     "text": [
      "z = 5.0 (cos(0) + isen(0))\n",
      "z = 5.0 * (e^(i*0))\n"
     ]
    }
   ],
   "source": [
    "#Resposta\n",
    "\n",
    "r = np.sqrt(5**2) \n",
    "\n",
    "theta = 0\n",
    "\n",
    "print(f\"z = {r} (cos({theta}) + isen({theta}))\")\n",
    "print(f\"z = {r} * (e^(i*{theta}))\")"
   ]
  },
  {
   "cell_type": "markdown",
   "id": "f8a27437",
   "metadata": {},
   "source": [
    "**2)** Resolva as seguintes equações:\n",
    "\n",
    "(Não precisa ser em código!)\n",
    "\n",
    "Dica: lembre-se que $ e^{i\\theta} = cos(\\theta) + i sen(\\theta)$\n",
    "\n",
    "a) $ \\dfrac{e^{i\\theta} + e^{-i\\theta}}{2} $\n",
    "\n",
    "b) $ \\dfrac{e^{i\\theta} - e^{-i\\theta}}{2i} $"
   ]
  },
  {
   "cell_type": "code",
   "execution_count": null,
   "id": "c43125a4",
   "metadata": {},
   "outputs": [],
   "source": []
  }
 ],
 "metadata": {
  "kernelspec": {
   "display_name": "Python 3",
   "language": "python",
   "name": "python3"
  },
  "language_info": {
   "codemirror_mode": {
    "name": "ipython",
    "version": 3
   },
   "file_extension": ".py",
   "mimetype": "text/x-python",
   "name": "python",
   "nbconvert_exporter": "python",
   "pygments_lexer": "ipython3",
   "version": "3.8.8"
  }
 },
 "nbformat": 4,
 "nbformat_minor": 5
}
